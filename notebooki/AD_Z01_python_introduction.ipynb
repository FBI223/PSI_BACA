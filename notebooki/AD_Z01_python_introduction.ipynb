{
 "cells": [
  {
   "cell_type": "markdown",
   "metadata": {},
   "source": [
    "# Podstawowe operatory\n",
    "\n",
    " * \\+ – dodawanie: 4 + 7.5 daje 11.5;\n",
    " * \\- – odejmowanie: 30 - 24 daje 6;\n",
    " * \\* – mnożenie: 2 * 3 daje 6;\n",
    " * \\*\\* – potęgowanie: 3 ** 4 daje 81;\n",
    " * / – dzielenie: 4 / 3 daje 1;\n",
    " * // – dzielenie całkowite: 4 // 3.0 daje 1;\n",
    " * % – dzielenie modulo: 8 % 3 daje 2. "
   ]
  },
  {
   "cell_type": "markdown",
   "metadata": {},
   "source": [
    "# Operatory porównania:\n",
    "\n",
    " * < – mniejsze,\n",
    " * \\> – większe,\n",
    " * <= – mniejsze lub równe,\n",
    " * == – równe,\n",
    " * != – różne. "
   ]
  },
  {
   "cell_type": "markdown",
   "metadata": {},
   "source": [
    "# 0. Wczytywanie danych\n",
    "komenda input\n",
    "wczytuje domyślnie string\n",
    "jeżeli chcemy float - trzeba dokonać konwersji"
   ]
  },
  {
   "cell_type": "code",
   "metadata": {
    "ExecuteTime": {
     "end_time": "2025-03-10T07:29:20.623735Z",
     "start_time": "2025-03-10T07:29:19.240655Z"
    }
   },
   "source": [
    "# python code to take float input\n",
    "\n",
    "# reading a value, printing input and it's type\n",
    "val1 = input(\"Enter any number: \")\n",
    "print(\"value of val1: \", val1)\n",
    "print(\"type of val1: \", type(val1))\n",
    "\n",
    "# reading a value, converting to float\n",
    "# printing value and it's type\n",
    "val2 = float(input(\"Enter any number: \"))\n",
    "print(\"value of val2: \", val2)\n",
    "print(\"type of val2: \", type(val2))"
   ],
   "outputs": [
    {
     "ename": "KeyboardInterrupt",
     "evalue": "Interrupted by user",
     "output_type": "error",
     "traceback": [
      "\u001B[31m---------------------------------------------------------------------------\u001B[39m",
      "\u001B[31mKeyboardInterrupt\u001B[39m                         Traceback (most recent call last)",
      "\u001B[36mCell\u001B[39m\u001B[36m \u001B[39m\u001B[32mIn[1]\u001B[39m\u001B[32m, line 4\u001B[39m\n\u001B[32m      1\u001B[39m \u001B[38;5;66;03m# python code to take float input\u001B[39;00m\n\u001B[32m      2\u001B[39m \n\u001B[32m      3\u001B[39m \u001B[38;5;66;03m# reading a value, printing input and it's type\u001B[39;00m\n\u001B[32m----> \u001B[39m\u001B[32m4\u001B[39m val1 = \u001B[38;5;28;43minput\u001B[39;49m\u001B[43m(\u001B[49m\u001B[33;43m\"\u001B[39;49m\u001B[33;43mEnter any number: \u001B[39;49m\u001B[33;43m\"\u001B[39;49m\u001B[43m)\u001B[49m\n\u001B[32m      5\u001B[39m \u001B[38;5;28mprint\u001B[39m(\u001B[33m\"\u001B[39m\u001B[33mvalue of val1: \u001B[39m\u001B[33m\"\u001B[39m, val1)\n\u001B[32m      6\u001B[39m \u001B[38;5;28mprint\u001B[39m(\u001B[33m\"\u001B[39m\u001B[33mtype of val1: \u001B[39m\u001B[33m\"\u001B[39m, \u001B[38;5;28mtype\u001B[39m(val1))\n",
      "\u001B[36mFile \u001B[39m\u001B[32m~\\anaconda3\\envs\\EKG_VIEWER\\Lib\\site-packages\\ipykernel\\kernelbase.py:1282\u001B[39m, in \u001B[36mKernel.raw_input\u001B[39m\u001B[34m(self, prompt)\u001B[39m\n\u001B[32m   1280\u001B[39m     msg = \u001B[33m\"\u001B[39m\u001B[33mraw_input was called, but this frontend does not support input requests.\u001B[39m\u001B[33m\"\u001B[39m\n\u001B[32m   1281\u001B[39m     \u001B[38;5;28;01mraise\u001B[39;00m StdinNotImplementedError(msg)\n\u001B[32m-> \u001B[39m\u001B[32m1282\u001B[39m \u001B[38;5;28;01mreturn\u001B[39;00m \u001B[38;5;28;43mself\u001B[39;49m\u001B[43m.\u001B[49m\u001B[43m_input_request\u001B[49m\u001B[43m(\u001B[49m\n\u001B[32m   1283\u001B[39m \u001B[43m    \u001B[49m\u001B[38;5;28;43mstr\u001B[39;49m\u001B[43m(\u001B[49m\u001B[43mprompt\u001B[49m\u001B[43m)\u001B[49m\u001B[43m,\u001B[49m\n\u001B[32m   1284\u001B[39m \u001B[43m    \u001B[49m\u001B[38;5;28;43mself\u001B[39;49m\u001B[43m.\u001B[49m\u001B[43m_parent_ident\u001B[49m\u001B[43m[\u001B[49m\u001B[33;43m\"\u001B[39;49m\u001B[33;43mshell\u001B[39;49m\u001B[33;43m\"\u001B[39;49m\u001B[43m]\u001B[49m\u001B[43m,\u001B[49m\n\u001B[32m   1285\u001B[39m \u001B[43m    \u001B[49m\u001B[38;5;28;43mself\u001B[39;49m\u001B[43m.\u001B[49m\u001B[43mget_parent\u001B[49m\u001B[43m(\u001B[49m\u001B[33;43m\"\u001B[39;49m\u001B[33;43mshell\u001B[39;49m\u001B[33;43m\"\u001B[39;49m\u001B[43m)\u001B[49m\u001B[43m,\u001B[49m\n\u001B[32m   1286\u001B[39m \u001B[43m    \u001B[49m\u001B[43mpassword\u001B[49m\u001B[43m=\u001B[49m\u001B[38;5;28;43;01mFalse\u001B[39;49;00m\u001B[43m,\u001B[49m\n\u001B[32m   1287\u001B[39m \u001B[43m\u001B[49m\u001B[43m)\u001B[49m\n",
      "\u001B[36mFile \u001B[39m\u001B[32m~\\anaconda3\\envs\\EKG_VIEWER\\Lib\\site-packages\\ipykernel\\kernelbase.py:1325\u001B[39m, in \u001B[36mKernel._input_request\u001B[39m\u001B[34m(self, prompt, ident, parent, password)\u001B[39m\n\u001B[32m   1322\u001B[39m \u001B[38;5;28;01mexcept\u001B[39;00m \u001B[38;5;167;01mKeyboardInterrupt\u001B[39;00m:\n\u001B[32m   1323\u001B[39m     \u001B[38;5;66;03m# re-raise KeyboardInterrupt, to truncate traceback\u001B[39;00m\n\u001B[32m   1324\u001B[39m     msg = \u001B[33m\"\u001B[39m\u001B[33mInterrupted by user\u001B[39m\u001B[33m\"\u001B[39m\n\u001B[32m-> \u001B[39m\u001B[32m1325\u001B[39m     \u001B[38;5;28;01mraise\u001B[39;00m \u001B[38;5;167;01mKeyboardInterrupt\u001B[39;00m(msg) \u001B[38;5;28;01mfrom\u001B[39;00m\u001B[38;5;250m \u001B[39m\u001B[38;5;28;01mNone\u001B[39;00m\n\u001B[32m   1326\u001B[39m \u001B[38;5;28;01mexcept\u001B[39;00m \u001B[38;5;167;01mException\u001B[39;00m:\n\u001B[32m   1327\u001B[39m     \u001B[38;5;28mself\u001B[39m.log.warning(\u001B[33m\"\u001B[39m\u001B[33mInvalid Message:\u001B[39m\u001B[33m\"\u001B[39m, exc_info=\u001B[38;5;28;01mTrue\u001B[39;00m)\n",
      "\u001B[31mKeyboardInterrupt\u001B[39m: Interrupted by user"
     ]
    }
   ],
   "execution_count": 1
  },
  {
   "cell_type": "markdown",
   "metadata": {},
   "source": [
    "# 1. Warunki\n",
    "Python używa zmiennych logicznych w celu oceny warunków. \n",
    "Wartości logiczne prawda (True) i fałsz (False) są zwracane, gdy wyrażenie jest porównywane i oceniane. \n",
    "\n",
    "Na przykład:"
   ]
  },
  {
   "cell_type": "code",
   "metadata": {
    "ExecuteTime": {
     "end_time": "2025-03-10T07:29:20.631754Z",
     "start_time": "2025-03-09T15:25:56.474514Z"
    }
   },
   "source": [
    "x = 2\n",
    "print(x == 2)\n",
    "print(x == 3)\n",
    "print(x < 3)"
   ],
   "outputs": [
    {
     "name": "stdout",
     "output_type": "stream",
     "text": [
      "True\n",
      "False\n",
      "True\n"
     ]
    }
   ],
   "execution_count": 2
  },
  {
   "cell_type": "markdown",
   "metadata": {},
   "source": [
    "# 1.1 Instrukcje Warunkowe\n",
    "Aby uzależnić wykonanie instrukcji od rezultatu porównania, używamy instrukcji warunkowej"
   ]
  },
  {
   "cell_type": "code",
   "metadata": {
    "ExecuteTime": {
     "end_time": "2025-03-10T07:29:20.651843900Z",
     "start_time": "2025-03-09T15:25:56.771739Z"
    }
   },
   "source": [
    "x=2\n",
    "\n",
    "if x==2: \n",
    "    print(\"OK\")"
   ],
   "outputs": [
    {
     "name": "stdout",
     "output_type": "stream",
     "text": [
      "OK\n"
     ]
    }
   ],
   "execution_count": 3
  },
  {
   "cell_type": "markdown",
   "metadata": {},
   "source": [
    "Przykład bardziej skomplikowany:"
   ]
  },
  {
   "cell_type": "code",
   "metadata": {
    "ExecuteTime": {
     "end_time": "2025-03-10T07:29:20.651843900Z",
     "start_time": "2025-03-09T15:25:56.808712Z"
    }
   },
   "source": [
    "a = 2\n",
    "b = 4\n",
    "if a > b:\n",
    "    print(b)\n",
    "else:\n",
    "    print(a)"
   ],
   "outputs": [
    {
     "name": "stdout",
     "output_type": "stream",
     "text": [
      "2\n"
     ]
    }
   ],
   "execution_count": 4
  },
  {
   "cell_type": "markdown",
   "metadata": {},
   "source": [
    "W powyższym przykładzie użyliśmy pełnej instrukcji warunkowej <b>IF/ELSE</b>. Istnieje jeszcze bardziej bogatsza instrukcja warunkowa tzw. instrukcja wyboru wielokrotnego <b>IF/ELIF/ELSE</b>:"
   ]
  },
  {
   "cell_type": "code",
   "metadata": {
    "ExecuteTime": {
     "end_time": "2025-03-10T07:29:20.654895200Z",
     "start_time": "2025-03-09T15:29:43.004988Z"
    }
   },
   "source": [
    "print(\"Ten program porównuje dwie liczby\")\n",
    "x = input(\"Podaj pierwszą z dwóch liczb:\")                                 \n",
    "y = input(\"Podaj drugą z dwóch liczb:\")                                    \n",
    "print(\"Liczba\",x,\"w stosunku do\",y,\"jest:\",)\n",
    "if x==y:\n",
    "    print(\"taka sama\")\n",
    "elif x>y:\n",
    "    print(\"większa\")\n",
    "else:\n",
    "    print(\"mniejsza\")"
   ],
   "outputs": [
    {
     "name": "stdout",
     "output_type": "stream",
     "text": [
      "Ten program porównuje dwie liczby\n",
      "Liczba 10 w stosunku do 10 jest:\n",
      "taka sama\n"
     ]
    }
   ],
   "execution_count": 29
  },
  {
   "cell_type": "markdown",
   "metadata": {},
   "source": [
    "UWAGA: proszę zobaczyć, jakie typy są porówywane - czy do końca ten program powyższy działa tak, jak chcemy?"
   ]
  },
  {
   "cell_type": "markdown",
   "metadata": {},
   "source": [
    "# Operatory logiczne\n",
    "Operatory logiczne, takie jak: <b>and</b> i <b>or</b> umożliwiają budowanie złożonych wyrażeń logicznych, na przykład:"
   ]
  },
  {
   "cell_type": "markdown",
   "metadata": {},
   "source": [
    "# Zad. 1 (1 punkt)\n",
    "\n",
    "Napisz program, który sprawdzi, czy podane przez użytkownika koła mają niepuste przecięcie. Użytkownik programu podaje współrzędne środka oraz promień każdego koła.\n"
   ]
  },
  {
   "cell_type": "code",
   "metadata": {
    "collapsed": true,
    "ExecuteTime": {
     "end_time": "2025-03-10T07:29:20.654895200Z",
     "start_time": "2025-03-09T15:38:20.403946Z"
    }
   },
   "source": [
    "import math\n",
    "\n",
    "def czy_przecinaja_sie(x1, y1, r1, x2, y2, r2):\n",
    "    d = math.sqrt((x2 - x1) ** 2 + (y2 - y1) ** 2)\n",
    "    return abs(r1 - r2) <= d <= (r1 + r2)\n",
    "\n",
    "print(\"Ten program mowi czy podane okregi maja niepuste przeciecie\")\n",
    "lista1 =  input(\"Podaj x y oraz r kola nr jeden: \").split()\n",
    "lista2 =  input(\"Podaj x y oraz r kola nr dwa: \").split()\n",
    "if (czy_przecinaja_sie(lista1[0], lista1[1], lista1[2], lista2[0], lista2[1], lista2[2])):\n",
    "    print(\"przecinaja sie \")\n",
    "else:\n",
    "    print(\"nie przecinaja sie \")\n"
   ],
   "outputs": [
    {
     "name": "stdout",
     "output_type": "stream",
     "text": [
      "Ten program porównuje dwie liczby\n",
      "przecinaja sie \n"
     ]
    }
   ],
   "execution_count": 32
  },
  {
   "cell_type": "markdown",
   "metadata": {},
   "source": [
    "# Operator ,,in''\n",
    "Operator <b>in</b> może być używany w celu sprawdzenia, czy określony ,,obiekt'' istnieje w obrębie iterowalnego kontenera obiektów, np. listy:"
   ]
  },
  {
   "cell_type": "code",
   "metadata": {
    "ExecuteTime": {
     "end_time": "2025-03-10T07:29:20.671955500Z",
     "start_time": "2025-03-09T15:29:02.545635Z"
    }
   },
   "source": [
    "name = \"Adam\"\n",
    "if name in [\"John\", \"Rick\"]:\n",
    "    print(\"Your name is either John or Rick.\")\n",
    "else:\n",
    "    print(\"Your name is not either John or Rick.\")"
   ],
   "outputs": [
    {
     "name": "stdout",
     "output_type": "stream",
     "text": [
      "Your name is not either John or Rick.\n"
     ]
    }
   ],
   "execution_count": 6
  },
  {
   "cell_type": "markdown",
   "metadata": {},
   "source": [
    "Instrukcje warunkowe możemy zagnieżdżać, np.:"
   ]
  },
  {
   "cell_type": "markdown",
   "metadata": {},
   "source": [
    "# 2. Pętle\n",
    "W Pythonie istnieją dwa typy pętli: <b>for<b> i <b>while<b>."
   ]
  },
  {
   "cell_type": "markdown",
   "metadata": {},
   "source": [
    "# 2.1 Pętle iterowane po elementach sekwencji\n",
    "\n",
    "Typowa pętla po liczbach:"
   ]
  },
  {
   "cell_type": "code",
   "metadata": {
    "ExecuteTime": {
     "end_time": "2025-03-10T07:29:20.671955500Z",
     "start_time": "2025-03-09T15:29:02.638235Z"
    }
   },
   "source": [
    "for x in range(3,10):\n",
    "      print(x)"
   ],
   "outputs": [
    {
     "name": "stdout",
     "output_type": "stream",
     "text": [
      "3\n",
      "4\n",
      "5\n",
      "6\n",
      "7\n",
      "8\n",
      "9\n"
     ]
    }
   ],
   "execution_count": 7
  },
  {
   "cell_type": "markdown",
   "metadata": {},
   "source": [
    "Funkcja <b>range</b> tworzy \"listę\" wartości całkowitych: \n",
    "\n",
    "- od zera do podanej wartości (jeżeli podamy 1 argument) \n",
    "- od - do (jeżeli podamy 2 argumenty)\n",
    "- możemy podać też trzeci parametr określający przyrost (normalnie +1).\n"
   ]
  },
  {
   "cell_type": "code",
   "metadata": {
    "ExecuteTime": {
     "end_time": "2025-03-10T07:29:20.681986300Z",
     "start_time": "2025-03-09T15:29:02.686466Z"
    }
   },
   "source": [
    "print(range(10))\n",
    "print(range(3, 10))\n",
    "print(range(1,10,2))\n",
    "print(range(4,0,-1))"
   ],
   "outputs": [
    {
     "name": "stdout",
     "output_type": "stream",
     "text": [
      "range(0, 10)\n",
      "range(3, 10)\n",
      "range(1, 10, 2)\n",
      "range(4, 0, -1)\n"
     ]
    }
   ],
   "execution_count": 8
  },
  {
   "cell_type": "markdown",
   "metadata": {},
   "source": [
    "Pętla <b>for</b> może też iterować inne typy danych, np napisy, listy:"
   ]
  },
  {
   "cell_type": "code",
   "metadata": {
    "ExecuteTime": {
     "end_time": "2025-03-10T07:29:20.681986300Z",
     "start_time": "2025-03-09T15:29:02.748642Z"
    }
   },
   "source": [
    "bar = \"Zdrabniamy literki\"\n",
    "for i in bar:\n",
    "    print(i, end =\"\")\n",
    "print()\n",
    "\n",
    "x = [2, 3, 5, 7]\n",
    "for i in x:\n",
    "    print(i, end =\" \") \n",
    "print()\n",
    "\n",
    "for e in ['apple', 'orange', 'peach']:\n",
    "    print(e, end =\" \")"
   ],
   "outputs": [
    {
     "name": "stdout",
     "output_type": "stream",
     "text": [
      "Zdrabniamy literki\n",
      "2 3 5 7 \n",
      "apple orange peach "
     ]
    }
   ],
   "execution_count": 9
  },
  {
   "cell_type": "markdown",
   "metadata": {},
   "source": [
    "W takiej pętli nie mamy dostępu do indeksu elementu w liście, ale możemy taki uzyskać, odpowiednio mapując kolekcję za pomocą <b>enumerate</b> (generator):"
   ]
  },
  {
   "cell_type": "code",
   "metadata": {
    "ExecuteTime": {
     "end_time": "2025-03-10T07:29:20.681986300Z",
     "start_time": "2025-03-09T15:29:02.804047Z"
    }
   },
   "source": [
    "print(list(enumerate(['apple', 'orange', 'peach'])), \"\\n\")\n",
    "\n",
    "for i, x in enumerate(['apple', 'orange', 'peach']):\n",
    "    print(i, x)"
   ],
   "outputs": [
    {
     "name": "stdout",
     "output_type": "stream",
     "text": [
      "[(0, 'apple'), (1, 'orange'), (2, 'peach')] \n",
      "\n",
      "0 apple\n",
      "1 orange\n",
      "2 peach\n"
     ]
    }
   ],
   "execution_count": 10
  },
  {
   "cell_type": "markdown",
   "metadata": {},
   "source": [
    "# 2.2 Pętla while\n",
    "\n",
    "Pętla **while** powtarza instrukcje znajdujące się w jej wnętrzu tak długo, dopóki podany warunek logiczny jest spełniony. \n",
    "\n",
    "Na przykład:"
   ]
  },
  {
   "cell_type": "code",
   "metadata": {
    "ExecuteTime": {
     "end_time": "2025-03-10T07:29:20.681986300Z",
     "start_time": "2025-03-09T15:29:02.850024Z"
    }
   },
   "source": [
    "x=[1,2,3,4,5,6]\n",
    "while x:\n",
    "    x=x[:len(x)-1] # funkcja len() zwraca długość listy (liczbę elementów)\n",
    "    print(x)"
   ],
   "outputs": [
    {
     "name": "stdout",
     "output_type": "stream",
     "text": [
      "[1, 2, 3, 4, 5]\n",
      "[1, 2, 3, 4]\n",
      "[1, 2, 3]\n",
      "[1, 2]\n",
      "[1]\n",
      "[]\n"
     ]
    }
   ],
   "execution_count": 11
  },
  {
   "cell_type": "code",
   "metadata": {
    "ExecuteTime": {
     "end_time": "2025-03-10T07:29:20.687033600Z",
     "start_time": "2025-03-09T15:29:02.903196Z"
    }
   },
   "source": [
    "licznik = 10\n",
    "\n",
    "while licznik < 15:\n",
    "    licznik += 1\n",
    "    print(\"Jestem w while.\")"
   ],
   "outputs": [
    {
     "name": "stdout",
     "output_type": "stream",
     "text": [
      "Jestem w while.\n",
      "Jestem w while.\n",
      "Jestem w while.\n",
      "Jestem w while.\n",
      "Jestem w while.\n"
     ]
    }
   ],
   "execution_count": 12
  },
  {
   "cell_type": "markdown",
   "metadata": {},
   "source": [
    "\n",
    "# Zad. 2 (1 punkt)\n",
    "Napisz program, który będzie wczytywał kolejne słowa i je wypisywał aż do wczytania słowa \"stop\" po którym program się zatrzyma.\n"
   ]
  },
  {
   "cell_type": "code",
   "metadata": {
    "ExecuteTime": {
     "end_time": "2025-03-10T07:29:20.687033600Z",
     "start_time": "2025-03-09T15:41:36.903219Z"
    }
   },
   "source": [
    "while True:\n",
    "    warunek = input(\"wpisz slowo\")\n",
    "    if (warunek == \"stop\"):\n",
    "        break\n"
   ],
   "outputs": [],
   "execution_count": 34
  },
  {
   "cell_type": "markdown",
   "metadata": {},
   "source": [
    "# Zad. 3\n",
    "\n",
    "Napisz program wypisujący tablicę n na m elementową w kształcie tablicy szachowej. Np. dla\n",
    "<br />\n",
    "<tt>\n",
    "n = 5<br />\n",
    "m = 5\n",
    "</tt>\n",
    "\n",
    "otrzymujemy\n",
    "\n",
    "<br />\n",
    "<tt>\n",
    "10101<br />\n",
    "01010<br />\n",
    "10101<br />\n",
    "01010<br />\n",
    "10101<br />\n",
    "</tt>"
   ]
  },
  {
   "cell_type": "code",
   "metadata": {
    "ExecuteTime": {
     "end_time": "2025-03-10T07:29:20.692040900Z",
     "start_time": "2025-03-09T16:18:01.680301Z"
    }
   },
   "source": [
    "rows = int(input(\"wpisz N wierszy\"))\n",
    "cols = int(input(\"wpisz M kolumn\"))\n",
    "\n",
    "\n",
    "\n",
    "for i in range(rows):\n",
    "    wiersz_temp = \"\"\n",
    "    for j in range(cols):\n",
    "        if (i + j) % 2 == 0:\n",
    "            wiersz_temp += \"1\"\n",
    "        else:\n",
    "            wiersz_temp += \"0\"\n",
    "    print(wiersz_temp)\n"
   ],
   "outputs": [
    {
     "name": "stdout",
     "output_type": "stream",
     "text": [
      "1010\n",
      "0101\n",
      "1010\n"
     ]
    }
   ],
   "execution_count": 42
  },
  {
   "cell_type": "markdown",
   "metadata": {},
   "source": [
    "# 3. Formatowanie liczb\n",
    "\n",
    "Celem pętli często jest wyświetlenie kolumny liczb. \n",
    "\n",
    "Aby liczby wyświetlane były w należyty sposób i w pożądanym miejscu używamy operatora formatowania **%** w połączeniu z ciągiem formatującym. \n",
    "\n",
    "Ciąg formatujący składa się ze znaku **%**, po którym następują \n",
    "\n",
    "* opcje formatowania, \n",
    "* ilość znaków przeznaczonych do wyświetlenia \n",
    "* oraz typ danej do wyświetlenia \n",
    "(przy czym tylko trzeci element – tj. typ danych jest wymagany).\n",
    "\n",
    "Typ danej sygnalizujemy pojedynczą literą. I tak:\n",
    "* litera s oznacza napis (konwertuje każdy typ danych na tekst), np.:"
   ]
  },
  {
   "cell_type": "code",
   "metadata": {
    "ExecuteTime": {
     "end_time": "2025-03-10T07:29:20.692040900Z",
     "start_time": "2025-03-09T15:29:03.035664Z"
    }
   },
   "source": [
    "# stary sposób\n",
    "\n",
    "print(\"%s\" % 10)\n",
    "print(\"%s\" % list(range(6)))\n",
    "print(\"%s\" % \"txt\")\n",
    "print('%10s' % 'test')\n",
    "print('%-10s' % 'test')\n",
    "print('%.5s' % 'xylophone')"
   ],
   "outputs": [
    {
     "name": "stdout",
     "output_type": "stream",
     "text": [
      "10\n",
      "[0, 1, 2, 3, 4, 5]\n",
      "txt\n",
      "      test\n",
      "test      \n",
      "xylop\n"
     ]
    }
   ],
   "execution_count": 13
  },
  {
   "cell_type": "markdown",
   "metadata": {},
   "source": [
    "* litera **d** oznacza dziesiętną liczbę całkowitą (konwertuje kompatybilny typ danych na liczbę całkowitą), np.:"
   ]
  },
  {
   "cell_type": "code",
   "metadata": {
    "ExecuteTime": {
     "end_time": "2025-03-10T07:29:20.692040900Z",
     "start_time": "2025-03-09T15:29:03.087109Z"
    }
   },
   "source": [
    "print(\"%d\" % 0xff)\n",
    "print(\"%d\" % 2)\n",
    "print('{:d}'.format(0xff))\n",
    "print('{:d}'.format(2))"
   ],
   "outputs": [
    {
     "name": "stdout",
     "output_type": "stream",
     "text": [
      "255\n",
      "2\n",
      "255\n",
      "2\n"
     ]
    }
   ],
   "execution_count": 14
  },
  {
   "cell_type": "markdown",
   "metadata": {},
   "source": [
    "* litera **f** oznacza liczbę zmiennopozycyjną w postaci ułamka dziesiętnego, np.:"
   ]
  },
  {
   "cell_type": "code",
   "metadata": {
    "ExecuteTime": {
     "end_time": "2025-03-10T07:29:20.692040900Z",
     "start_time": "2025-03-09T15:29:03.125848Z"
    }
   },
   "source": [
    "print(\"%f\" % 123)\n",
    "print(\"%f\" % 1.23)\n",
    "\n",
    "print('{:f}'.format(123))\n",
    "print('{:f}'.format(1.23))"
   ],
   "outputs": [
    {
     "name": "stdout",
     "output_type": "stream",
     "text": [
      "123.000000\n",
      "1.230000\n",
      "123.000000\n",
      "1.230000\n"
     ]
    }
   ],
   "execution_count": 15
  },
  {
   "cell_type": "markdown",
   "metadata": {},
   "source": [
    "# Zad. 4 (1 punkt)\n",
    "\n",
    "Napisać program rysujący \"miarkę\" o zadanej długości. Należy prawidłowo obsłużyć liczby składające się z kilku cyfr, np.:\n",
    "\n",
    "$$|....|....|....|....|....|....|....|....|$$\n",
    "$$0 \\quad \\ 1 \\quad \\ 2 \\quad \\ 3 \\quad \\ 4 \\quad \\ 5 \\quad \\ 6 \\quad \\ 7 \\quad \\ 8$$"
   ]
  },
  {
   "cell_type": "code",
   "metadata": {
    "ExecuteTime": {
     "end_time": "2025-03-10T07:52:00.517177Z",
     "start_time": "2025-03-10T07:51:55.875039Z"
    }
   },
   "source": [
    "n = int(input(\"Enter any number: \"))\n",
    "s = \"|....\"\n",
    "print(s * n + \"|\\n\" + \" \".join(f\"{i:<4}\" for i in range(n + 1)))\n"
   ],
   "outputs": [
    {
     "name": "stdout",
     "output_type": "stream",
     "text": [
      "|....|....|....|....|....|....|....|....|....|....|....|....|\n",
      "0    1    2    3    4    5    6    7    8    9    10   11   12  \n"
     ]
    }
   ],
   "execution_count": 2
  },
  {
   "cell_type": "markdown",
   "metadata": {},
   "source": [
    "# Funkcje\n",
    "\n",
    "Definicja funkcji musi zawierać:\n",
    "\n",
    "* nagłówek funkcji:\n",
    "  * nazwę funkcji, która pozwoli zidentyfikować funkcję w pozostałej części programu,\n",
    "  * listę argumentów\n",
    "* ciało funkcji, zawierające instrukcje, które zostaną wykonane w momencie wywołania (użycia) funkcji\n",
    "  * jeżeli funkcja ma zwracać jakiś rezultat, musi zawierać instrukcję ,,return''\n",
    "\n",
    "W języku Python składnia definicji funkcji jest następująca:"
   ]
  },
  {
   "cell_type": "code",
   "metadata": {
    "collapsed": true,
    "ExecuteTime": {
     "end_time": "2025-03-10T07:29:20.703111500Z",
     "start_time": "2025-03-09T15:29:03.198006Z"
    }
   },
   "source": [
    "def nazwa_funkcji (lista_parametrow):\n",
    "    #instrukcje_do_wykonania\n",
    "    print(1)"
   ],
   "outputs": [],
   "execution_count": 16
  },
  {
   "cell_type": "markdown",
   "metadata": {},
   "source": [
    "Przykład funkcji:"
   ]
  },
  {
   "cell_type": "code",
   "metadata": {
    "ExecuteTime": {
     "end_time": "2025-03-10T07:29:20.703111500Z",
     "start_time": "2025-03-09T15:29:03.219300Z"
    }
   },
   "source": [
    "# Przykład 1\n",
    "def wypisz(lancuch):\n",
    "    print(lancuch)\n",
    "\n",
    "wypisz(\"To jest użycie funkcji\")\n",
    "x = \"tak\"\n",
    "wypisz(x)"
   ],
   "outputs": [
    {
     "name": "stdout",
     "output_type": "stream",
     "text": [
      "To jest użycie funkcji\n",
      "tak\n"
     ]
    }
   ],
   "execution_count": 17
  },
  {
   "cell_type": "code",
   "metadata": {
    "ExecuteTime": {
     "end_time": "2025-03-10T07:29:20.712120300Z",
     "start_time": "2025-03-09T15:29:03.267568Z"
    }
   },
   "source": [
    "# Przykład 2 - zwraca wynik\n",
    "def suma(x, y):\n",
    "    return x+y\n",
    "\n",
    "print(suma(4,8))\n",
    "x = suma(2, -1)\n",
    "print(x)"
   ],
   "outputs": [
    {
     "name": "stdout",
     "output_type": "stream",
     "text": [
      "12\n",
      "1\n"
     ]
    }
   ],
   "execution_count": 18
  },
  {
   "cell_type": "markdown",
   "metadata": {},
   "source": [
    "## Wiele rezultatów\n",
    "Jeżeli chcemy aby funkcja zwracała więcej niż jedną zmienną to stosujemy krotkę ,,(zmienna_1, ..., zmienna_n)'':"
   ]
  },
  {
   "cell_type": "code",
   "metadata": {
    "ExecuteTime": {
     "end_time": "2025-03-10T07:29:20.712120300Z",
     "start_time": "2025-03-09T15:29:03.301550Z"
    }
   },
   "source": [
    "def f1(a,b):\n",
    "    return a+b,a-b\n",
    "\n",
    "def f2(a,b):\n",
    "    return (a+b,a-b)\n",
    "\n",
    "print(f1(2, 4))\n",
    "print(f2(2, 4))"
   ],
   "outputs": [
    {
     "name": "stdout",
     "output_type": "stream",
     "text": [
      "(6, -2)\n",
      "(6, -2)\n"
     ]
    }
   ],
   "execution_count": 19
  },
  {
   "cell_type": "markdown",
   "metadata": {},
   "source": [
    "# Zad. 5 (1 punkt)\n",
    "\n",
    "Napisz funkcje, która zwraca:\n",
    "\n",
    "* sumę,\n",
    "* maximum,\n",
    "* iloczyn elementów listy.\n",
    "\n",
    "OPCJONALNIE: można użyć komendy reduce()"
   ]
  },
  {
   "cell_type": "code",
   "metadata": {
    "ExecuteTime": {
     "end_time": "2025-03-10T07:29:20.712120300Z",
     "start_time": "2025-03-09T18:44:27.733805Z"
    }
   },
   "source": [
    "from functools import reduce\n",
    "\n",
    "def add(x, y):\n",
    "    return x + y\n",
    "\n",
    "def dot(x, y):\n",
    "    return x * y\n",
    "\n",
    "lista = [1, 2, 3, 4, 5, 6]\n",
    "\n",
    "# Suma wszystkich elementów listy\n",
    "suma = reduce(add, lista)\n",
    "print(\"Suma:\", suma)\n",
    "\n",
    "\n",
    "\n",
    "# Największa wartość w liście\n",
    "najwiekszy = max(lista)\n",
    "print(\"Największy element:\", najwiekszy)\n",
    "\n",
    "# Iloczyn wszystkich elementów listy\n",
    "iloczyn = reduce(dot, lista)\n",
    "print(\"Iloczyn:\", iloczyn)\n"
   ],
   "outputs": [
    {
     "name": "stdout",
     "output_type": "stream",
     "text": [
      "Suma: 21\n",
      "Największy element: 6\n",
      "Iloczyn: 720\n"
     ]
    }
   ],
   "execution_count": 57
  },
  {
   "cell_type": "markdown",
   "metadata": {},
   "source": [
    "# Klasy\n",
    "\n",
    "Definicja klasy musi zawierać:\n",
    "\n",
    "* nagłówek klasy:\n",
    "  * nazwę klasy, która pozwoli zidentyfikować klasę w pozostałej części programu,\n",
    "* ciało klasy, zawierające atrybuty i metody, które definiują zachowanie i właściwości obiektów danej klasy.\n",
    "\n",
    "W języku Python składnia definicji klasy jest następująca:\n"
   ]
  },
  {
   "cell_type": "code",
   "metadata": {
    "ExecuteTime": {
     "end_time": "2025-03-10T07:29:20.722172Z",
     "start_time": "2025-03-09T15:29:03.366750Z"
    }
   },
   "source": [
    "class Nazwa_klasy:\n",
    "    def funkcja1(self):\n",
    "        pass\n",
    "\n",
    "    def funkcja2(self):\n",
    "        pass"
   ],
   "outputs": [],
   "execution_count": 20
  },
  {
   "cell_type": "markdown",
   "metadata": {},
   "source": [
    "Przykład klasy:"
   ]
  },
  {
   "cell_type": "code",
   "metadata": {
    "ExecuteTime": {
     "end_time": "2025-03-10T07:29:20.722172Z",
     "start_time": "2025-03-09T15:29:03.410913Z"
    }
   },
   "source": [
    "# Przykład 1\n",
    "\n",
    "class Samochody:\n",
    "    def __init__(self, ilosc_kol, ilosc_drzwi, max_predkosc, kolor):\n",
    "        self.ilosc_kol = ilosc_kol\n",
    "        self.ilosc_drzwi = ilosc_drzwi\n",
    "        self.max_predkosc = max_predkosc\n",
    "        self.kolor = kolor\n",
    "\n",
    "    def wyswietl_informacje(self):\n",
    "        print(\"Ilość kół:\", self.ilosc_kol)\n",
    "        print(\"Ilość drzwi:\", self.ilosc_drzwi)\n",
    "        print(\"Maksymalna prędkość:\", self.max_predkosc)\n",
    "        print(\"Kolor:\", self.kolor)\n",
    "\n",
    "    def zmien_kolor(self, nowy_kolor):\n",
    "        self.kolor = nowy_kolor\n",
    "        print(\"Zmieniono kolor na\", self.kolor)\n",
    "\n",
    "    def przyspiesz(self, o_ile):\n",
    "        self.max_predkosc += o_ile\n",
    "        print(\"Aktualna maksymalna prędkość:\", self.max_predkosc)\n",
    "\n",
    "    def otworz_drzwi(self):\n",
    "        if self.ilosc_drzwi >= 1:\n",
    "            print(\"Otwarto drzwi.\")\n",
    "        else:\n",
    "            print(\"Samochód nie ma drzwi.\")\n",
    "\n",
    "# Przykład użycia klasy Samochody\n",
    "moj_samochod = Samochody(4, 5, 200, \"czerwony\")\n",
    "moj_samochod.wyswietl_informacje()\n",
    "moj_samochod.zmien_kolor(\"zielony\")\n",
    "moj_samochod.przyspiesz(20)\n",
    "moj_samochod.otworz_drzwi()\n"
   ],
   "outputs": [
    {
     "name": "stdout",
     "output_type": "stream",
     "text": [
      "Ilość kół: 4\n",
      "Ilość drzwi: 5\n",
      "Maksymalna prędkość: 200\n",
      "Kolor: czerwony\n",
      "Zmieniono kolor na zielony\n",
      "Aktualna maksymalna prędkość: 220\n",
      "Otwarto drzwi.\n"
     ]
    }
   ],
   "execution_count": 21
  },
  {
   "cell_type": "markdown",
   "metadata": {},
   "source": [
    "# Zad. 6 (1 punkt)\n",
    "\n",
    "Napisz klase, która reprezentuje naukowy artykul:\n",
    "\n",
    "* klassa powinna miec przynajmniej 5 funkcij"
   ]
  },
  {
   "cell_type": "code",
   "metadata": {
    "ExecuteTime": {
     "end_time": "2025-03-10T07:52:48.403909Z",
     "start_time": "2025-03-10T07:52:48.388214Z"
    }
   },
   "source": [
    "class Artykul:\n",
    "    def __init__(self, lista_autorow, jaki_uniwerek, dziedzina , tytul , tresc ):\n",
    "        self.lista_autorow = lista_autorow\n",
    "        self.jaki_uniwerek = jaki_uniwerek\n",
    "        self.ile_cytowan = 0\n",
    "        self.dziedzina = dziedzina\n",
    "        self.tytul = tytul\n",
    "        self.punkty_prestizu = 0\n",
    "        self.tresc = tresc\n",
    "\n",
    "\n",
    "    def wyswietl_informacje(self):\n",
    "        print(\"autorzy / autor:\", self.lista_autorow)\n",
    "        print(\"uniwerek:\", self.jaki_uniwerek)\n",
    "        print(\"ilosc cytowan:\", self.ile_cytowan)\n",
    "        print(\"punkty prestizu :\",  self.punkty_prestizu)\n",
    "        print(\"dziedzina nauki:\", self.dziedzina)\n",
    "        print(\"tytul:\", self.tytul)\n",
    "\n",
    "    def aktualizuj_punkty_prestizu(self):\n",
    "        self.punkty_prestizu = self.ile_cytowan // 10\n",
    "\n",
    "    def zacytowanie_w_innym_artykule(self):\n",
    "        self.ile_cytowan += 1\n",
    "\n",
    "    def ile_autorow(self):\n",
    "        return len(self.lista_autorow)\n",
    "\n",
    "    def wyszukaj_kraj_uniwersytetu(self):\n",
    "        if (self.jaki_uniwerek == \"\"):\n",
    "            print(\"praca zostala napisana przez niezalezny zespol ekspertow\")\n",
    "        else:\n",
    "            baza_danych_szkol_wyzszych = {\"szkola1\" : \"Rosja\" , \"uniwerek2\" : \"Niemcy\" , \"UJ\" : \"POLSKA\" }\n",
    "            if ( self.jaki_uniwerek in baza_danych_szkol_wyzszych ):\n",
    "                print(baza_danych_szkol_wyzszych[self.jaki_uniwerek])\n",
    "            else:\n",
    "                print(\"szkola jest w internecie\")\n",
    "\n",
    "    def wyszukaj_strone_gdzie_Wystepuje_Ciag_znakow(self, czego_szukasz):\n",
    "        for i in range(len(self.tresc)):\n",
    "            if czego_szukasz in self.tresc[i]:\n",
    "                return i\n",
    "        return -1\n",
    "\n",
    "\n",
    "\n",
    "# Przykład użycia klasy artykul\n",
    "moj_artykul = Artykul([\"doktor kawa\",\"marcin\"],\"UJ\", \"Informatyka\", \"Baca3\", [\"autorzy marcin oraz szanowny Pan Doktor Kawa napisali razem ksiazke\",\"przestawiajaca kod zrodlowy do strony do utomatycznego testowania zadan studentow\" , \"bla bla bla \" , \"bibliografia : docker 123 , www 321\" ])\n",
    "moj_artykul.wyswietl_informacje()\n",
    "for i in range(21):\n",
    "    moj_artykul.zacytowanie_w_innym_artykule()\n",
    "moj_artykul.aktualizuj_punkty_prestizu()\n",
    "print(\"nowe punkty prestizu : \" + str(moj_artykul.punkty_prestizu))\n",
    "moj_artykul.wyszukaj_kraj_uniwersytetu()\n",
    "print( \"podana strona gdzie wystepuje slowo 'docker' to \" +  str(moj_artykul.wyszukaj_strone_gdzie_Wystepuje_Ciag_znakow(\"docker\")))\n"
   ],
   "outputs": [
    {
     "name": "stdout",
     "output_type": "stream",
     "text": [
      "autorzy / autor: ['doktor kawa', 'marcin']\n",
      "uniwerek: UJ\n",
      "ilosc cytowan: 0\n",
      "punkty prestizu : 0\n",
      "dziedzina nauki: Informatyka\n",
      "tytul: Baca3\n",
      "nowe punkty prestizu : 2\n",
      "POLSKA\n",
      "podana strona gdzie wystepuje slowo 'docker' to 3\n"
     ]
    }
   ],
   "execution_count": 3
  },
  {
   "cell_type": "markdown",
   "metadata": {},
   "source": [
    "# Typy sekwencyjne\n",
    "\n",
    "Sekwencyjne typy danych służą do przechowywaniu wielu wartości w pojedynczej zmiennej (w innych językach nazywane tablicami), w odróżnieniu od typów prostych, takich jak np. int, które w pojedynczej zmiennej mogą zachować tylko jedną wartość. Do typów sekwencyjnych należą: napisy (łańcuchy znaków), listy, krotki."
   ]
  },
  {
   "cell_type": "markdown",
   "metadata": {},
   "source": [
    "# 1. Napisy/łańcuchy\n",
    "Do tej pory poznaliśmy już jeden typ sekwencyjny, mianowicie typ łańcuchowy (łańcuchy znaków). Wartości napisów podajemy w cudzysłowach lub apostrofach:"
   ]
  },
  {
   "cell_type": "code",
   "metadata": {
    "ExecuteTime": {
     "end_time": "2025-03-10T07:29:20.722172Z",
     "start_time": "2025-03-09T15:29:03.469389Z"
    }
   },
   "source": [
    "x = \"To jest napis\"\n",
    "print(x[0])\n",
    "print(x[1])\n",
    "print(x[3])\n",
    "\n",
    "print(x[-1])\n",
    "print(x[-2])\n",
    "print(x[-3])"
   ],
   "outputs": [
    {
     "name": "stdout",
     "output_type": "stream",
     "text": [
      "T\n",
      "o\n",
      "j\n",
      "s\n",
      "i\n",
      "p\n"
     ]
    }
   ],
   "execution_count": 22
  },
  {
   "cell_type": "code",
   "metadata": {
    "ExecuteTime": {
     "end_time": "2025-03-10T07:29:20.735243800Z",
     "start_time": "2025-03-09T15:29:03.520574Z"
    }
   },
   "source": [
    "x = \"To jest napis\"\n",
    "print(len(x))"
   ],
   "outputs": [
    {
     "name": "stdout",
     "output_type": "stream",
     "text": [
      "13\n"
     ]
    }
   ],
   "execution_count": 23
  },
  {
   "cell_type": "markdown",
   "metadata": {},
   "source": [
    "# 2. Listy\n",
    "Do zapamiętywania sekwencji danych nie będącymi znakami (np. liczby) służy typ sekwencyjny - **lista**. Elementy list mogą być dowolnego typu, to znaczy mogą zawierać zarówno liczby jak i napisy."
   ]
  },
  {
   "cell_type": "code",
   "metadata": {
    "ExecuteTime": {
     "end_time": "2025-03-10T07:29:20.735243800Z",
     "start_time": "2025-03-09T15:29:03.568498Z"
    }
   },
   "source": [
    "x = [1, 2, 3]\n",
    "y = [1, 'tak', 5]\n",
    "\n",
    "print(x)\n",
    "print(y)"
   ],
   "outputs": [
    {
     "name": "stdout",
     "output_type": "stream",
     "text": [
      "[1, 2, 3]\n",
      "[1, 'tak', 5]\n"
     ]
    }
   ],
   "execution_count": 24
  },
  {
   "cell_type": "code",
   "metadata": {
    "ExecuteTime": {
     "end_time": "2025-03-10T07:29:20.735243800Z",
     "start_time": "2025-03-09T15:29:03.620275Z"
    }
   },
   "source": [
    "x = [1, 2, 3, 4]\n",
    "\n",
    "print(2 in x)\n",
    "print(3 not in x)\n",
    "print(5 not in x)"
   ],
   "outputs": [
    {
     "name": "stdout",
     "output_type": "stream",
     "text": [
      "True\n",
      "False\n",
      "True\n"
     ]
    }
   ],
   "execution_count": 25
  },
  {
   "cell_type": "code",
   "metadata": {
    "ExecuteTime": {
     "end_time": "2025-03-10T07:29:20.742253Z",
     "start_time": "2025-03-09T15:29:03.677748Z"
    }
   },
   "source": [
    "x = [range(5), [8, -7, -1]]\n",
    "\n",
    "print(x)\n",
    "print(x[0])\n",
    "print(x[1])\n",
    "print(x[1][1])"
   ],
   "outputs": [
    {
     "name": "stdout",
     "output_type": "stream",
     "text": [
      "[range(0, 5), [8, -7, -1]]\n",
      "range(0, 5)\n",
      "[8, -7, -1]\n",
      "-7\n"
     ]
    }
   ],
   "execution_count": 26
  },
  {
   "cell_type": "markdown",
   "metadata": {},
   "source": [
    "# Zad. 7 (1 punkt)\n",
    "\n",
    "Napisać program zamieniający napis na napis „rozstrzelony”, czyli wstawiający spacje przed napisem, pomiędzy literami i po napisie. Przykład: **'Python' → ' P y t h o n '**. "
   ]
  },
  {
   "cell_type": "code",
   "metadata": {
    "ExecuteTime": {
     "end_time": "2025-03-10T07:52:59.117266Z",
     "start_time": "2025-03-10T07:52:59.112544Z"
    }
   },
   "source": [
    "def rozstrzelaj(napis):\n",
    "    return \" \".join(napis)\n",
    "\n",
    "print(rozstrzelaj(\"python\"))\n",
    "\n"
   ],
   "outputs": [
    {
     "name": "stdout",
     "output_type": "stream",
     "text": [
      "p y t h o n\n"
     ]
    }
   ],
   "execution_count": 4
  },
  {
   "cell_type": "markdown",
   "metadata": {},
   "source": [
    "# Zad. 8 (1 punkt)\n",
    "\n",
    "Napisz funkcję **reverse(napis)**, która z napisu będącego jej argumentem tworzy odwrócony napis. Przykładowo, wywołanie reverse(\"hello\") powinno zwrócić napis \"olleh\". "
   ]
  },
  {
   "cell_type": "code",
   "metadata": {
    "ExecuteTime": {
     "end_time": "2025-03-10T07:29:20.742253Z",
     "start_time": "2025-03-09T19:58:44.486469Z"
    }
   },
   "source": [
    "def reverse(napis):\n",
    "    return napis[::-1]\n",
    "\n",
    "print(reverse(\"napis\"))\n"
   ],
   "outputs": [
    {
     "name": "stdout",
     "output_type": "stream",
     "text": [
      "sipan\n"
     ]
    }
   ],
   "execution_count": 67
  },
  {
   "cell_type": "markdown",
   "metadata": {},
   "source": [
    "## Moduły i pakiety\n",
    "Moduł to plik w Pythonie zawierający definicję klas, funkcji, stałych i zmiennych. Definicje zawarte w module mogą być zaimportowane do innych modułów lub do modułu głównego. Wewnątrz modułu jego nazwa dostępna jest jako wartość zmiennej globalnej **<tt>\\__name__</tt>**."
   ]
  },
  {
   "cell_type": "markdown",
   "metadata": {},
   "source": [
    "## Wybrane pakiety, moduły:\n",
    "\n",
    "* random - moduł ten zawiera funkcje obsługujące generowanie liczb pseudolosowych:"
   ]
  },
  {
   "cell_type": "code",
   "metadata": {
    "ExecuteTime": {
     "end_time": "2025-03-10T07:29:20.752308500Z",
     "start_time": "2025-03-09T20:04:13.671534Z"
    }
   },
   "source": [
    "import random\n",
    "\n",
    "random.seed() # inicjalizacja generatora liczb pseudolosowych\n",
    "\n",
    "# losowanie liczb całkowitych z zakresu od..do.\n",
    "print(random.randint(1,10))\n",
    "print(random.randint(1,10))\n",
    "print(random.randint(1,10))"
   ],
   "outputs": [
    {
     "name": "stdout",
     "output_type": "stream",
     "text": [
      "9\n",
      "10\n",
      "2\n"
     ]
    }
   ],
   "execution_count": 69
  },
  {
   "cell_type": "markdown",
   "metadata": {},
   "source": [
    "* **math** - moduł ten zawiera definicje najczęściej używanych funkcji matematycznych:"
   ]
  },
  {
   "cell_type": "code",
   "metadata": {
    "ExecuteTime": {
     "end_time": "2025-03-10T07:29:20.752308500Z",
     "start_time": "2025-03-09T15:29:03.817717Z"
    }
   },
   "source": [
    "from math import *\n",
    "\n",
    "print(ceil(4.7)) # zwraca sufit liczby rzeczywistej\n",
    "print(floor(4.7)) # zwraca podłogę liczby rzeczywistej\n",
    "print(fabs(-3)) # zwraca wartość absolutną liczby rzeczywistej\n",
    "print(modf(2.5)) # zwraca krotkę zawierającą część ułamkową i całkowitą liczby rzeczywistej\n",
    "print(exp(2)) # zwraca e do potęgi x\n",
    "print(log(e)) # zwraca logarytm naturalny\n",
    "print(log(8, 2)) # zwraca logarytm o podstawie 2 (drugi parametr)\n",
    "print(sqrt(2.25)) # zwraca pierwiastek kwadratowy\n",
    "print(acos(1))\n",
    "print(cos(1))"
   ],
   "outputs": [
    {
     "name": "stdout",
     "output_type": "stream",
     "text": [
      "5\n",
      "4\n",
      "3.0\n",
      "(0.5, 2.0)\n",
      "7.38905609893065\n",
      "1.0\n",
      "3.0\n",
      "1.5\n",
      "0.0\n",
      "0.5403023058681398\n"
     ]
    }
   ],
   "execution_count": 28
  },
  {
   "cell_type": "markdown",
   "metadata": {},
   "source": [
    "\n",
    "# Zad. 9 (1 punkt)\n",
    "\n",
    "Wyestymować wartość liczby $\\pi$ metodą Monte Carlo.\n",
    "\n",
    "Pole kwadratu to $4r^2$, a pole koła wynosi $\\pi r^2$. W takim razie stosunek:\n",
    "$$\n",
    "\\frac{P_{kola}}{P_{kwadratu}} = \\frac{\\pi r^2}{4 r^2} = \\frac{\\pi}{4}.\n",
    "$$\n",
    "W konsekwencji: \n",
    "$$\n",
    "\\pi = 4 \\frac{P_{kola}}{P_{kwadratu}}.\n",
    "$$\n",
    "\n",
    "Jeżeli będziemy losować punkty o współrzędnych od $-r$ do $r$, to stosunek liczby punktów zawierających się w kole o środku w punkcie $(0,0)$ i promieniu $r$ do wszystkich wylosowanych punktów, będzie dążył w nieskończoności (z pewnym prawdopodobieństwem) do stosunku tego pola koła do koła kwadratu o boku $2r$.\n",
    "\n",
    "Cała metoda sprowadza się więc do tego, by losować punkty i sprawdzać, czy mieszczą się w kole. "
   ]
  },
  {
   "cell_type": "code",
   "metadata": {
    "ExecuteTime": {
     "end_time": "2025-03-10T07:57:55.835007Z",
     "start_time": "2025-03-10T07:56:48.959088Z"
    }
   },
   "source": [
    "import random\n",
    "random.seed()\n",
    "N = 10_000_000\n",
    "insideCircle = 0\n",
    "\n",
    "for i in range(N):\n",
    "    x = random.uniform(-1,1)\n",
    "    y = random.uniform(-1,1)\n",
    "    if x * x + y * y <= 1:\n",
    "        insideCircle += 1\n",
    "\n",
    "piEstimate = 4.0 * insideCircle / N\n",
    "print(f\"Oszacowane π: {piEstimate:.10f}\")  # Zaokrąglenie do 6 miejsc\n"
   ],
   "outputs": [
    {
     "name": "stdout",
     "output_type": "stream",
     "text": [
      "Oszacowane π: 3.1414738000\n"
     ]
    }
   ],
   "execution_count": 7
  }
 ],
 "metadata": {
  "kernelspec": {
   "display_name": "Python 3 (ipykernel)",
   "language": "python",
   "name": "python3"
  },
  "language_info": {
   "codemirror_mode": {
    "name": "ipython",
    "version": 3
   },
   "file_extension": ".py",
   "mimetype": "text/x-python",
   "name": "python",
   "nbconvert_exporter": "python",
   "pygments_lexer": "ipython3",
   "version": "3.10.9"
  }
 },
 "nbformat": 4,
 "nbformat_minor": 1
}
